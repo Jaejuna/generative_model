{
 "cells": [
  {
   "cell_type": "code",
   "execution_count": null,
   "metadata": {},
   "outputs": [],
   "source": [
    "import torch\n",
    "import torch.nn as nn\n",
    "import torch.optim as optim"
   ]
  },
  {
   "cell_type": "code",
   "execution_count": null,
   "metadata": {},
   "outputs": [],
   "source": [
    "# Denoising 모델 (간단한 feed-forward 신경망)\n",
    "class DenoisingModel(nn.Module):\n",
    "    def __init__(self, input_dim, hidden_dim):\n",
    "        super(DenoisingModel, self).__init__()\n",
    "        self.fc = nn.Sequential(\n",
    "            nn.Linear(input_dim, hidden_dim),\n",
    "            nn.ReLU(),\n",
    "            nn.Linear(hidden_dim, input_dim)\n",
    "        )\n",
    "    \n",
    "    def forward(self, x):\n",
    "        return self.fc(x)"
   ]
  },
  {
   "cell_type": "code",
   "execution_count": null,
   "metadata": {},
   "outputs": [],
   "source": [
    "# Diffusion 과정\n",
    "def diffusion_process(data, num_steps=5, noise_scale=0.1):\n",
    "    noisy_data = [data]\n",
    "    for _ in range(num_steps):\n",
    "        noise = torch.randn_like(data) * noise_scale\n",
    "        data = data + noise\n",
    "        noisy_data.append(data)\n",
    "    return noisy_data[::-1]  # 역순으로 반환"
   ]
  },
  {
   "cell_type": "code",
   "execution_count": null,
   "metadata": {},
   "outputs": [],
   "source": [
    "# 학습\n",
    "denoiser = DenoisingModel(input_dim=784, hidden_dim=400)  # 예: 28x28 이미지\n",
    "optimizer = optim.Adam(denoiser.parameters(), lr=0.001)\n",
    "criterion = nn.MSELoss()"
   ]
  },
  {
   "cell_type": "code",
   "execution_count": null,
   "metadata": {},
   "outputs": [],
   "source": [
    "# 가정: train_loader는 학습 데이터를 제공\n",
    "for epoch in range(epochs):\n",
    "    for batch in train_loader:\n",
    "        images = batch[0].view(-1, 784)  # 이미지를 벡터로 변환\n",
    "        noisy_images = diffusion_process(images)\n",
    "        \n",
    "        loss = 0\n",
    "        for noisy_img in noisy_images:\n",
    "            denoised_img = denoiser(noisy_img)\n",
    "            loss += criterion(denoised_img, images)\n",
    "        \n",
    "        optimizer.zero_grad()\n",
    "        loss.backward()\n",
    "        optimizer.step()"
   ]
  }
 ],
 "metadata": {
  "language_info": {
   "name": "python"
  },
  "orig_nbformat": 4
 },
 "nbformat": 4,
 "nbformat_minor": 2
}
